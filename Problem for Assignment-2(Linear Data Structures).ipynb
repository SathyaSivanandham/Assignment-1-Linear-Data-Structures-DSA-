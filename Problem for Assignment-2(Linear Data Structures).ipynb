{
 "cells": [
  {
   "cell_type": "markdown",
   "id": "cf5d34a0",
   "metadata": {},
   "source": [
    "Q1. Delete the elements in an linked list whose sum is equal to zero."
   ]
  },
  {
   "cell_type": "code",
   "execution_count": 3,
   "id": "3cd0b5e7",
   "metadata": {},
   "outputs": [
    {
     "name": "stdout",
     "output_type": "stream",
     "text": [
      "1 -> -3 -> 6"
     ]
    }
   ],
   "source": [
    "class ListNode:\n",
    "    def __init__(self, val):\n",
    "        self.val = val\n",
    "        self.next = None\n",
    "\n",
    "def getNode(data):\n",
    "    temp = ListNode(data)\n",
    "    temp.next = None\n",
    "    return temp\n",
    "\n",
    "def printList(head):\n",
    "    while (head.next):\n",
    "        print(head.val, end=' -> ')\n",
    "        head = head.next\n",
    "    print(head.val, end='')\n",
    "\n",
    "def removeZeroSum(head, K):\n",
    "    root = ListNode(0)\n",
    "    root.next = head\n",
    "    umap = dict()\n",
    "    umap[0] = root\n",
    "    sum = 0\n",
    "    while (head != None):\n",
    "        sum += head.val\n",
    "        if ((sum - K) in umap):\n",
    "            prev = umap[sum - K]\n",
    "            start = prev\n",
    "            aux = sum\n",
    "            sum = sum - K\n",
    "            while (prev != head):\n",
    "                prev = prev.next\n",
    "                aux += prev.val\n",
    "                if (prev != head):\n",
    "                    umap.remove(aux)\n",
    "            start.next = head.next\n",
    "        else:\n",
    "            umap[sum] = head\n",
    "        head = head.next\n",
    "    return root.next\n",
    "\n",
    "if __name__ == '__main__':\n",
    "    head = getNode(1)\n",
    "    head.next = getNode(5)\n",
    "    head.next.next = getNode(-3)\n",
    "    head.next.next.next = getNode(5)\n",
    "    head.next.next.next.next = getNode(6)\n",
    "    K = 5\n",
    "    head = removeZeroSum(head, K)\n",
    "    if(head != None):\n",
    "        printList(head)"
   ]
  },
  {
   "cell_type": "markdown",
   "id": "bf5fc2af",
   "metadata": {},
   "source": [
    "Q2. Reverse a linked list in groups of given size"
   ]
  },
  {
   "cell_type": "code",
   "execution_count": 8,
   "id": "ec0f1507",
   "metadata": {},
   "outputs": [
    {
     "name": "stdout",
     "output_type": "stream",
     "text": [
      "[3, 2, 1, 6, 5, 4, 9, 8, 7, 10, ]\n"
     ]
    }
   ],
   "source": [
    "class ListNode:\n",
    "    \n",
    "    def __init__(self, data, next = None):\n",
    "        self.val = data\n",
    "        self.next = next\n",
    "\n",
    "def make_list(elements):\n",
    "    head = ListNode(elements[0])\n",
    "    for element in elements[1:]:\n",
    "        ptr = head\n",
    "        while ptr.next:\n",
    "            ptr = ptr.next\n",
    "        ptr.next = ListNode(element)\n",
    "    return head\n",
    "\n",
    "def print_list(head):\n",
    "    ptr = head \n",
    "    print('[', end = \"\")\n",
    "    \n",
    "    while ptr:\n",
    "        print(ptr.val, end = \", \")\n",
    "        ptr = ptr.next\n",
    "    print(']')\n",
    "\n",
    "class Solution:\n",
    "\n",
    "    def solve(self, node, k):\n",
    "        tmp = ListNode(0)\n",
    "        tmp.next = node\n",
    "        prev, curr = None, node\n",
    "        lp, lc = tmp, curr\n",
    "        cnt = k\n",
    "        while curr:\n",
    "            prev = None\n",
    "            while cnt > 0 and curr:\n",
    "                following = curr.next\n",
    "                curr.next = prev\n",
    "                prev, curr = curr, following\n",
    "                cnt -= 1\n",
    "            lp.next, lc.next = prev, curr\n",
    "            lp, lc = lc, curr\n",
    "            cnt = k\n",
    "        return tmp.next\n",
    "\n",
    "ob = Solution()\n",
    "head = make_list([1,2,3,4,5,6,7,8,9,10])\n",
    "print_list(ob.solve(head, 3))"
   ]
  },
  {
   "cell_type": "markdown",
   "id": "65f97022",
   "metadata": {},
   "source": [
    "Q3. Merge a linked list into another linked list at alternate positions."
   ]
  },
  {
   "cell_type": "code",
   "execution_count": 9,
   "id": "326ddf43",
   "metadata": {},
   "outputs": [
    {
     "name": "stdout",
     "output_type": "stream",
     "text": [
      "First Linked List:\n",
      "0\n",
      "1\n",
      "2\n",
      "3\n",
      "Second Linked List:\n",
      "4\n",
      "5\n",
      "6\n",
      "7\n",
      "8\n",
      "Modified first linked list:\n",
      "0\n",
      "4\n",
      "1\n",
      "5\n",
      "2\n",
      "6\n",
      "3\n",
      "7\n",
      "Modified second linked list:\n",
      "8\n"
     ]
    }
   ],
   "source": [
    "class Node(object):\n",
    "    def __init__(self, data:int):\n",
    "        self.data = data\n",
    "        self.next = None\n",
    "\n",
    "class LinkedList(object):\n",
    "    def __init__(self):\n",
    "         self.head = None\n",
    "\n",
    "    def push(self, new_data:int):\n",
    "        new_node = Node(new_data)\n",
    "        new_node.next = self.head\n",
    "        self.head = new_node\n",
    "\n",
    "    def printList(self):\n",
    "        temp = self.head\n",
    "        while temp != None:\n",
    "            print(temp.data)\n",
    "            temp = temp.next\n",
    "\n",
    "    def merge(self, p, q):\n",
    "        p_curr = p.head\n",
    "        q_curr = q.head\n",
    "        while p_curr != None and q_curr != None:\n",
    "            p_next = p_curr.next\n",
    "            q_next = q_curr.next\n",
    "            q_curr.next = p_next\n",
    "            p_curr.next = q_curr\n",
    "            p_curr = p_next\n",
    "            q_curr = q_next\n",
    "            q.head = q_curr\n",
    "\n",
    "llist1 = LinkedList()\n",
    "llist2 = LinkedList()\n",
    "\n",
    "llist1.push(3)\n",
    "llist1.push(2)\n",
    "llist1.push(1)\n",
    "llist1.push(0)\n",
    "\n",
    "for i in range(8, 3, -1):\n",
    "    llist2.push(i)\n",
    "\n",
    "print(\"First Linked List:\")\n",
    "llist1.printList()\n",
    "\n",
    "print(\"Second Linked List:\")\n",
    "llist2.printList()\n",
    "\n",
    "llist1.merge(p=llist1, q=llist2)\n",
    "\n",
    "print(\"Modified first linked list:\")\n",
    "llist1.printList()\n",
    "\n",
    "print(\"Modified second linked list:\")\n",
    "llist2.printList()"
   ]
  },
  {
   "cell_type": "markdown",
   "id": "8a0e775e",
   "metadata": {},
   "source": [
    "Q4. In an array, Count Pairs with given sum"
   ]
  },
  {
   "cell_type": "code",
   "execution_count": 7,
   "id": "19993868",
   "metadata": {},
   "outputs": [
    {
     "name": "stdout",
     "output_type": "stream",
     "text": [
      "Array=  [5, 2, 3, 4, 1, 6, 7]\n",
      "Pairs whose sum is :  7\n",
      "5 2\n",
      "3 4\n",
      "1 6\n"
     ]
    }
   ],
   "source": [
    "def find(array, len, summ):\n",
    "    print(\"Pairs whose sum is : \", summ)\n",
    "    for i in range(len):\n",
    "        for j in range(i, len):\n",
    "            if (array[i] + array[j]) == summ:\n",
    "                print(array[i], array[j])\n",
    "\n",
    "\n",
    "array = [5, 2, 3, 4, 1, 6, 7]\n",
    "summ = 7\n",
    "print(\"Array= \", array)\n",
    "find(array, len(array), summ)"
   ]
  },
  {
   "cell_type": "markdown",
   "id": "df7f38bb",
   "metadata": {},
   "source": [
    "Q5. Find duplicates in an array"
   ]
  },
  {
   "cell_type": "code",
   "execution_count": 6,
   "id": "fa0940be",
   "metadata": {},
   "outputs": [
    {
     "name": "stdout",
     "output_type": "stream",
     "text": [
      "Duplicate integeres:  [10, 30, -10, -20]\n"
     ]
    }
   ],
   "source": [
    "def duplicate(li):\n",
    "    n=len(li)\n",
    "    dup=[]\n",
    "    for i in range(n):\n",
    "        k = i + 1\n",
    "        for j in range(k,n):\n",
    "            if li[i] == li[j] and li[i] not in dup:\n",
    "                dup.append(li[i])\n",
    "    return dup\n",
    "\n",
    "\n",
    "li=[ 10, 20, 30, -10, -20, 10, 80, -10, -20, 30]\n",
    "print(\"Duplicate integeres: \",duplicate(li))"
   ]
  },
  {
   "cell_type": "markdown",
   "id": "9fafcf7b",
   "metadata": {},
   "source": [
    "Q6. Find the Kth largest and Kth smallest number in an array"
   ]
  },
  {
   "cell_type": "code",
   "execution_count": 5,
   "id": "163344d2",
   "metadata": {},
   "outputs": [
    {
     "name": "stdout",
     "output_type": "stream",
     "text": [
      "K th maximum element is:  8\n",
      "K th minimum element is:  1\n"
     ]
    }
   ],
   "source": [
    "def findkmax(k, array):\n",
    "    array.sort(reverse=True)\n",
    "    print(\"K th maximum element is: \", array[k - 1])\n",
    "\n",
    "\n",
    "def findkmin(k, array):\n",
    "    array.sort()\n",
    "    print(\"K th minimum element is: \", array[k - 1])\n",
    "\n",
    "\n",
    "array = [1, 7, 6, 8, 9, 2, 4, 5, 3, 0]\n",
    "k = 2\n",
    "\n",
    "findkmax(k, array)\n",
    "findkmin(k, array)"
   ]
  },
  {
   "cell_type": "markdown",
   "id": "c6878a31",
   "metadata": {},
   "source": [
    "Q7. Move all the negative elements to one side of the array"
   ]
  },
  {
   "cell_type": "code",
   "execution_count": 4,
   "id": "393af825",
   "metadata": {},
   "outputs": [
    {
     "name": "stdout",
     "output_type": "stream",
     "text": [
      "2 3 -1 0 -9  -5 5 10 4 -7 6\n",
      "Original Array: [2, 3, -1, 0, -9, -5, 5, 10, 4, -7, 6]\n",
      "Rearranged Array: [-1, -9, -5, -7, 3, 2, 5, 10, 4, 0, 6]\n"
     ]
    }
   ],
   "source": [
    "def shift_negatives(arr) :\n",
    "    first_positive = 0\n",
    "    for i in range(len(arr)):\n",
    "        if arr[i] < 0:\n",
    "            temp = arr[i]\n",
    "            arr[i] = arr[first_positive]\n",
    "            arr[first_positive]= temp\n",
    "            \n",
    "            first_positive += 1\n",
    "    return arr\n",
    " \n",
    "arr = input().split()\n",
    "arr = [int(i) for i in arr]\n",
    "print(\"Original Array:\", arr)\n",
    "rearranged_array = shift_negatives(arr)\n",
    "print(\"Rearranged Array:\", rearranged_array)"
   ]
  },
  {
   "cell_type": "markdown",
   "id": "23ce8baa",
   "metadata": {},
   "source": [
    "Q8. Reverse a string using a stack data structure"
   ]
  },
  {
   "cell_type": "code",
   "execution_count": 3,
   "id": "5708dce5",
   "metadata": {},
   "outputs": [
    {
     "name": "stdout",
     "output_type": "stream",
     "text": [
      "Please enter the elements to push: E D Y O D A\n",
      "The stack:\n",
      "A\n",
      "D\n",
      "O\n",
      "Y\n",
      "D\n",
      "E\n",
      "\n",
      "After reversing:\n",
      "E\n",
      "D\n",
      "Y\n",
      "O\n",
      "D\n",
      "A\n"
     ]
    }
   ],
   "source": [
    "class Stack:\n",
    "    def __init__(self):\n",
    "        self.items = []\n",
    " \n",
    "    def is_empty(self):\n",
    "        return self.items == []\n",
    " \n",
    "    def push(self, data):\n",
    "        self.items.append(data)\n",
    " \n",
    "    def pop(self):\n",
    "        return self.items.pop()\n",
    " \n",
    "    def display(self):\n",
    "        for data in reversed(self.items):\n",
    "            print(data)\n",
    " \n",
    "def insert_at_top(s, data):\n",
    "    if s.is_empty():\n",
    "        s.push(data)\n",
    "    else:\n",
    "        popped = s.pop()\n",
    "        insert_at_top(s, data)\n",
    "        s.push(popped)\n",
    " \n",
    " \n",
    "def reverse_stack(s):\n",
    "    if not s.is_empty():\n",
    "        popped = s.pop()\n",
    "        reverse_stack(s)\n",
    "        insert_at_top(s, popped)\n",
    " \n",
    " \n",
    "s = Stack()\n",
    "data_list = input('Please enter the elements to push: ').split()\n",
    "for data in data_list:\n",
    "    s.push(str(data))\n",
    " \n",
    "print('The stack:')\n",
    "s.display()\n",
    "reverse_stack(s)\n",
    "print('\\nAfter reversing:')\n",
    "s.display()"
   ]
  },
  {
   "cell_type": "markdown",
   "id": "6c7cdd5f",
   "metadata": {},
   "source": [
    "Q9. Evaluate a postfix expression using stack"
   ]
  },
  {
   "cell_type": "code",
   "execution_count": 2,
   "id": "d1736c79",
   "metadata": {},
   "outputs": [
    {
     "name": "stdout",
     "output_type": "stream",
     "text": [
      "193\n"
     ]
    }
   ],
   "source": [
    "def postfix_evaluation(s):\n",
    "    s=s.split()\n",
    "    n=len(s)\n",
    "    stack =[]\n",
    "\n",
    "    for i in range(n):\n",
    "        if s[i].isdigit():\n",
    "            stack.append(int(s[i]))\n",
    "        elif s[i]==\"+\":\n",
    "            a=stack.pop()\n",
    "            b=stack.pop()\n",
    "            stack.append(int(a)+int(b))\n",
    "        elif s[i]==\"*\":\n",
    "            a=stack.pop()\n",
    "            b=stack.pop()\n",
    "            stack.append(int(a)*int(b))\n",
    "        elif s[i]==\"/\":\n",
    "            a=stack.pop()\n",
    "            b=stack.pop()\n",
    "            stack.append(int(b)/int(a))\n",
    "        elif s[i]==\"-\":\n",
    "            a=stack.pop()\n",
    "            b=stack.pop()\n",
    "            stack.append(int(b)-int(a))            \n",
    "    return stack.pop()\n",
    "\n",
    "s=\"20 22 8 * + 3 -\"\n",
    "val=postfix_evaluation(s)\n",
    "print(val)"
   ]
  },
  {
   "cell_type": "markdown",
   "id": "eaaca609",
   "metadata": {},
   "source": [
    "Q10. Implement a queue using the stack data structure"
   ]
  },
  {
   "cell_type": "code",
   "execution_count": 1,
   "id": "d6bc3c29",
   "metadata": {},
   "outputs": [
    {
     "name": "stdout",
     "output_type": "stream",
     "text": [
      "Menu\n",
      "push <value>\n",
      "pop\n",
      "quit\n",
      "What would you like to do? push 1\n",
      "What would you like to do? push 2\n",
      "What would you like to do? push 3\n",
      "What would you like to do? push 4\n",
      "What would you like to do? pop\n",
      "Popped value:  4\n",
      "What would you like to do? pop\n",
      "Popped value:  3\n",
      "What would you like to do? pop\n",
      "Popped value:  2\n",
      "What would you like to do? pop\n",
      "Popped value:  1\n",
      "What would you like to do? pop\n",
      "Stack is empty.\n",
      "What would you like to do? quit\n"
     ]
    }
   ],
   "source": [
    "class Stack:\n",
    "    def __init__(self):\n",
    "        self.q = Queue()\n",
    " \n",
    "    def is_empty(self):\n",
    "        return self.q.is_empty()\n",
    " \n",
    "    def push(self, data):\n",
    "        self.q.enqueue(data)\n",
    " \n",
    "    def pop(self):\n",
    "        for _ in range(self.q.get_size() - 1):\n",
    "            dequeued = self.q.dequeue()\n",
    "            self.q.enqueue(dequeued)\n",
    "        return self.q.dequeue()\n",
    " \n",
    " \n",
    "class Queue:\n",
    "    def __init__(self):\n",
    "        self.items = []\n",
    "        self.size = 0\n",
    " \n",
    "    def is_empty(self):\n",
    "        return self.items == []\n",
    " \n",
    "    def enqueue(self, data):\n",
    "        self.size += 1\n",
    "        self.items.append(data)\n",
    " \n",
    "    def dequeue(self):\n",
    "        self.size -= 1\n",
    "        return self.items.pop(0)\n",
    " \n",
    "    def get_size(self):\n",
    "        return self.size\n",
    " \n",
    " \n",
    "s = Stack()\n",
    " \n",
    "print('Menu')\n",
    "print('push <value>')\n",
    "print('pop')\n",
    "print('quit')\n",
    " \n",
    "while True:\n",
    "    do = input('What would you like to do? ').split()\n",
    " \n",
    "    operation = do[0].strip().lower()\n",
    "    if operation == 'push':\n",
    "        s.push(int(do[1]))\n",
    "    elif operation == 'pop':\n",
    "        if s.is_empty():\n",
    "            print('Stack is empty.')\n",
    "        else:\n",
    "            print('Popped value: ', s.pop())\n",
    "    elif operation == 'quit':\n",
    "        break"
   ]
  },
  {
   "cell_type": "code",
   "execution_count": null,
   "id": "e4aa32ee",
   "metadata": {},
   "outputs": [],
   "source": []
  }
 ],
 "metadata": {
  "kernelspec": {
   "display_name": "Python 3 (ipykernel)",
   "language": "python",
   "name": "python3"
  },
  "language_info": {
   "codemirror_mode": {
    "name": "ipython",
    "version": 3
   },
   "file_extension": ".py",
   "mimetype": "text/x-python",
   "name": "python",
   "nbconvert_exporter": "python",
   "pygments_lexer": "ipython3",
   "version": "3.11.0"
  }
 },
 "nbformat": 4,
 "nbformat_minor": 5
}
